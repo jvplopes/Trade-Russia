{
  "nbformat": 4,
  "nbformat_minor": 0,
  "metadata": {
    "colab": {
      "name": "Russia.ipynb",
      "provenance": [],
      "collapsed_sections": [],
      "authorship_tag": "ABX9TyPeiWoSSdktVGtkCFvjceYD",
      "include_colab_link": true
    },
    "kernelspec": {
      "name": "python3",
      "display_name": "Python 3"
    },
    "language_info": {
      "name": "python"
    },
    "widgets": {
      "application/vnd.jupyter.widget-state+json": {
        "965239628c2a450a9bb448ce414bec6f": {
          "model_module": "@jupyter-widgets/controls",
          "model_name": "VBoxModel",
          "model_module_version": "1.5.0",
          "state": {
            "_view_name": "VBoxView",
            "_dom_classes": [
              "widget-interact"
            ],
            "_model_name": "VBoxModel",
            "_view_module": "@jupyter-widgets/controls",
            "_model_module_version": "1.5.0",
            "_view_count": null,
            "_view_module_version": "1.5.0",
            "box_style": "",
            "layout": "IPY_MODEL_c3a48cbbd5a84e1fbf3876825dad13e4",
            "_model_module": "@jupyter-widgets/controls",
            "children": [
              "IPY_MODEL_5fdd92d384504d25b51a924570d2cb9f",
              "IPY_MODEL_b0e8adc66e3d4eabaf8d27758cb26f8d"
            ]
          }
        },
        "c3a48cbbd5a84e1fbf3876825dad13e4": {
          "model_module": "@jupyter-widgets/base",
          "model_name": "LayoutModel",
          "model_module_version": "1.2.0",
          "state": {
            "_view_name": "LayoutView",
            "grid_template_rows": null,
            "right": null,
            "justify_content": null,
            "_view_module": "@jupyter-widgets/base",
            "overflow": null,
            "_model_module_version": "1.2.0",
            "_view_count": null,
            "flex_flow": null,
            "width": null,
            "min_width": null,
            "border": null,
            "align_items": null,
            "bottom": null,
            "_model_module": "@jupyter-widgets/base",
            "top": null,
            "grid_column": null,
            "overflow_y": null,
            "overflow_x": null,
            "grid_auto_flow": null,
            "grid_area": null,
            "grid_template_columns": null,
            "flex": null,
            "_model_name": "LayoutModel",
            "justify_items": null,
            "grid_row": null,
            "max_height": null,
            "align_content": null,
            "visibility": null,
            "align_self": null,
            "height": null,
            "min_height": null,
            "padding": null,
            "grid_auto_rows": null,
            "grid_gap": null,
            "max_width": null,
            "order": null,
            "_view_module_version": "1.2.0",
            "grid_template_areas": null,
            "object_position": null,
            "object_fit": null,
            "grid_auto_columns": null,
            "margin": null,
            "display": null,
            "left": null
          }
        },
        "5fdd92d384504d25b51a924570d2cb9f": {
          "model_module": "@jupyter-widgets/controls",
          "model_name": "IntSliderModel",
          "model_module_version": "1.5.0",
          "state": {
            "_view_name": "IntSliderView",
            "style": "IPY_MODEL_29c376d0867941f1849cb29e16669409",
            "_dom_classes": [],
            "description": "ano",
            "step": 1,
            "_model_name": "IntSliderModel",
            "orientation": "horizontal",
            "max": 2019,
            "_view_module": "@jupyter-widgets/controls",
            "_model_module_version": "1.5.0",
            "value": 2019,
            "_view_count": null,
            "disabled": false,
            "_view_module_version": "1.5.0",
            "min": 1996,
            "continuous_update": true,
            "readout_format": "d",
            "description_tooltip": null,
            "readout": true,
            "_model_module": "@jupyter-widgets/controls",
            "layout": "IPY_MODEL_dad3e7467a9d440ca50d3277c1be1454"
          }
        },
        "b0e8adc66e3d4eabaf8d27758cb26f8d": {
          "model_module": "@jupyter-widgets/output",
          "model_name": "OutputModel",
          "model_module_version": "1.0.0",
          "state": {
            "_view_name": "OutputView",
            "msg_id": "",
            "_dom_classes": [],
            "_model_name": "OutputModel",
            "outputs": [
              {
                "output_type": "display_data",
                "data": {
                  "text/html": "<html>\n<head><meta charset=\"utf-8\" /></head>\n<body>\n    <div>            <script src=\"https://cdnjs.cloudflare.com/ajax/libs/mathjax/2.7.5/MathJax.js?config=TeX-AMS-MML_SVG\"></script><script type=\"text/javascript\">if (window.MathJax) {MathJax.Hub.Config({SVG: {font: \"STIX-Web\"}});}</script>                <script type=\"text/javascript\">window.PlotlyConfig = {MathJaxConfig: 'local'};</script>\n        <script src=\"https://cdn.plot.ly/plotly-2.8.3.min.js\"></script>                <div id=\"55b3f867-afd0-48aa-8f6b-1e5b84a27117\" class=\"plotly-graph-div\" style=\"height:525px; width:100%;\"></div>            <script type=\"text/javascript\">                                    window.PLOTLYENV=window.PLOTLYENV || {};                                    if (document.getElementById(\"55b3f867-afd0-48aa-8f6b-1e5b84a27117\")) {                    Plotly.newPlot(                        \"55b3f867-afd0-48aa-8f6b-1e5b84a27117\",                        [{\"labels\":[\"Animal\",\"Vegetable\",\"Food Products\",\"Minerals\",\"Fuels\",\"Chemicals\",\"Plastic or Rubber\",\"Hides and Skins\",\"Wood\",\"Textiles and Clothing\",\"Footwear\",\"Stone and Glass\",\"Metals\",\"Mach and Elec\",\"Transportation\",\"Miscellaneous\"],\"name\":\"Imports\",\"values\":[7035436117.940001,12414564492.59,10643073955.07,3137635137.5099998,1954210881.78,33760280265.91,13880303214.56,1275784774.1100001,4203327318.3700004,11523710363.55,3616153250.4599996,3750326310.8700004,17887026094.43,72990141690.9,32017256929.91,17072112102.249998],\"type\":\"pie\",\"domain\":{\"x\":[0.0,0.45],\"y\":[0.0,1.0]},\"hole\":0.4,\"hovertemplate\":\"%{label}<br>%{value:,.0f}M$<br>%{percent}\",\"textinfo\":\"label\"},{\"labels\":[\"Animal\",\"Vegetable\",\"Food Products\",\"Minerals\",\"Fuels\",\"Chemicals\",\"Plastic or Rubber\",\"Hides and Skins\",\"Wood\",\"Textiles and Clothing\",\"Footwear\",\"Stone and Glass\",\"Metals\",\"Mach and Elec\",\"Transportation\",\"Miscellaneous\"],\"name\":\"Exports\",\"values\":[5140057339.59,13531641412.960001,6175077539.64,5281786226.339999,221688597110.24002,19329244006.59,6088745314.84,204300102.98,13035699819.92,1091100824.06,300171732.4,16922389797.39,37569193268.55,14627253761.27,7140537096.14,58594537307.26],\"type\":\"pie\",\"domain\":{\"x\":[0.55,1.0],\"y\":[0.0,1.0]},\"hole\":0.4,\"hovertemplate\":\"%{label}<br>%{value:,.0f}M$<br>%{percent}\",\"textinfo\":\"label\"}],                        {\"template\":{\"data\":{\"bar\":[{\"error_x\":{\"color\":\"#2a3f5f\"},\"error_y\":{\"color\":\"#2a3f5f\"},\"marker\":{\"line\":{\"color\":\"#E5ECF6\",\"width\":0.5},\"pattern\":{\"fillmode\":\"overlay\",\"size\":10,\"solidity\":0.2}},\"type\":\"bar\"}],\"barpolar\":[{\"marker\":{\"line\":{\"color\":\"#E5ECF6\",\"width\":0.5},\"pattern\":{\"fillmode\":\"overlay\",\"size\":10,\"solidity\":0.2}},\"type\":\"barpolar\"}],\"carpet\":[{\"aaxis\":{\"endlinecolor\":\"#2a3f5f\",\"gridcolor\":\"white\",\"linecolor\":\"white\",\"minorgridcolor\":\"white\",\"startlinecolor\":\"#2a3f5f\"},\"baxis\":{\"endlinecolor\":\"#2a3f5f\",\"gridcolor\":\"white\",\"linecolor\":\"white\",\"minorgridcolor\":\"white\",\"startlinecolor\":\"#2a3f5f\"},\"type\":\"carpet\"}],\"choropleth\":[{\"colorbar\":{\"outlinewidth\":0,\"ticks\":\"\"},\"type\":\"choropleth\"}],\"contour\":[{\"colorbar\":{\"outlinewidth\":0,\"ticks\":\"\"},\"colorscale\":[[0.0,\"#0d0887\"],[0.1111111111111111,\"#46039f\"],[0.2222222222222222,\"#7201a8\"],[0.3333333333333333,\"#9c179e\"],[0.4444444444444444,\"#bd3786\"],[0.5555555555555556,\"#d8576b\"],[0.6666666666666666,\"#ed7953\"],[0.7777777777777778,\"#fb9f3a\"],[0.8888888888888888,\"#fdca26\"],[1.0,\"#f0f921\"]],\"type\":\"contour\"}],\"contourcarpet\":[{\"colorbar\":{\"outlinewidth\":0,\"ticks\":\"\"},\"type\":\"contourcarpet\"}],\"heatmap\":[{\"colorbar\":{\"outlinewidth\":0,\"ticks\":\"\"},\"colorscale\":[[0.0,\"#0d0887\"],[0.1111111111111111,\"#46039f\"],[0.2222222222222222,\"#7201a8\"],[0.3333333333333333,\"#9c179e\"],[0.4444444444444444,\"#bd3786\"],[0.5555555555555556,\"#d8576b\"],[0.6666666666666666,\"#ed7953\"],[0.7777777777777778,\"#fb9f3a\"],[0.8888888888888888,\"#fdca26\"],[1.0,\"#f0f921\"]],\"type\":\"heatmap\"}],\"heatmapgl\":[{\"colorbar\":{\"outlinewidth\":0,\"ticks\":\"\"},\"colorscale\":[[0.0,\"#0d0887\"],[0.1111111111111111,\"#46039f\"],[0.2222222222222222,\"#7201a8\"],[0.3333333333333333,\"#9c179e\"],[0.4444444444444444,\"#bd3786\"],[0.5555555555555556,\"#d8576b\"],[0.6666666666666666,\"#ed7953\"],[0.7777777777777778,\"#fb9f3a\"],[0.8888888888888888,\"#fdca26\"],[1.0,\"#f0f921\"]],\"type\":\"heatmapgl\"}],\"histogram\":[{\"marker\":{\"pattern\":{\"fillmode\":\"overlay\",\"size\":10,\"solidity\":0.2}},\"type\":\"histogram\"}],\"histogram2d\":[{\"colorbar\":{\"outlinewidth\":0,\"ticks\":\"\"},\"colorscale\":[[0.0,\"#0d0887\"],[0.1111111111111111,\"#46039f\"],[0.2222222222222222,\"#7201a8\"],[0.3333333333333333,\"#9c179e\"],[0.4444444444444444,\"#bd3786\"],[0.5555555555555556,\"#d8576b\"],[0.6666666666666666,\"#ed7953\"],[0.7777777777777778,\"#fb9f3a\"],[0.8888888888888888,\"#fdca26\"],[1.0,\"#f0f921\"]],\"type\":\"histogram2d\"}],\"histogram2dcontour\":[{\"colorbar\":{\"outlinewidth\":0,\"ticks\":\"\"},\"colorscale\":[[0.0,\"#0d0887\"],[0.1111111111111111,\"#46039f\"],[0.2222222222222222,\"#7201a8\"],[0.3333333333333333,\"#9c179e\"],[0.4444444444444444,\"#bd3786\"],[0.5555555555555556,\"#d8576b\"],[0.6666666666666666,\"#ed7953\"],[0.7777777777777778,\"#fb9f3a\"],[0.8888888888888888,\"#fdca26\"],[1.0,\"#f0f921\"]],\"type\":\"histogram2dcontour\"}],\"mesh3d\":[{\"colorbar\":{\"outlinewidth\":0,\"ticks\":\"\"},\"type\":\"mesh3d\"}],\"parcoords\":[{\"line\":{\"colorbar\":{\"outlinewidth\":0,\"ticks\":\"\"}},\"type\":\"parcoords\"}],\"pie\":[{\"automargin\":true,\"type\":\"pie\"}],\"scatter\":[{\"marker\":{\"colorbar\":{\"outlinewidth\":0,\"ticks\":\"\"}},\"type\":\"scatter\"}],\"scatter3d\":[{\"line\":{\"colorbar\":{\"outlinewidth\":0,\"ticks\":\"\"}},\"marker\":{\"colorbar\":{\"outlinewidth\":0,\"ticks\":\"\"}},\"type\":\"scatter3d\"}],\"scattercarpet\":[{\"marker\":{\"colorbar\":{\"outlinewidth\":0,\"ticks\":\"\"}},\"type\":\"scattercarpet\"}],\"scattergeo\":[{\"marker\":{\"colorbar\":{\"outlinewidth\":0,\"ticks\":\"\"}},\"type\":\"scattergeo\"}],\"scattergl\":[{\"marker\":{\"colorbar\":{\"outlinewidth\":0,\"ticks\":\"\"}},\"type\":\"scattergl\"}],\"scattermapbox\":[{\"marker\":{\"colorbar\":{\"outlinewidth\":0,\"ticks\":\"\"}},\"type\":\"scattermapbox\"}],\"scatterpolar\":[{\"marker\":{\"colorbar\":{\"outlinewidth\":0,\"ticks\":\"\"}},\"type\":\"scatterpolar\"}],\"scatterpolargl\":[{\"marker\":{\"colorbar\":{\"outlinewidth\":0,\"ticks\":\"\"}},\"type\":\"scatterpolargl\"}],\"scatterternary\":[{\"marker\":{\"colorbar\":{\"outlinewidth\":0,\"ticks\":\"\"}},\"type\":\"scatterternary\"}],\"surface\":[{\"colorbar\":{\"outlinewidth\":0,\"ticks\":\"\"},\"colorscale\":[[0.0,\"#0d0887\"],[0.1111111111111111,\"#46039f\"],[0.2222222222222222,\"#7201a8\"],[0.3333333333333333,\"#9c179e\"],[0.4444444444444444,\"#bd3786\"],[0.5555555555555556,\"#d8576b\"],[0.6666666666666666,\"#ed7953\"],[0.7777777777777778,\"#fb9f3a\"],[0.8888888888888888,\"#fdca26\"],[1.0,\"#f0f921\"]],\"type\":\"surface\"}],\"table\":[{\"cells\":{\"fill\":{\"color\":\"#EBF0F8\"},\"line\":{\"color\":\"white\"}},\"header\":{\"fill\":{\"color\":\"#C8D4E3\"},\"line\":{\"color\":\"white\"}},\"type\":\"table\"}]},\"layout\":{\"annotationdefaults\":{\"arrowcolor\":\"#2a3f5f\",\"arrowhead\":0,\"arrowwidth\":1},\"autotypenumbers\":\"strict\",\"coloraxis\":{\"colorbar\":{\"outlinewidth\":0,\"ticks\":\"\"}},\"colorscale\":{\"diverging\":[[0,\"#8e0152\"],[0.1,\"#c51b7d\"],[0.2,\"#de77ae\"],[0.3,\"#f1b6da\"],[0.4,\"#fde0ef\"],[0.5,\"#f7f7f7\"],[0.6,\"#e6f5d0\"],[0.7,\"#b8e186\"],[0.8,\"#7fbc41\"],[0.9,\"#4d9221\"],[1,\"#276419\"]],\"sequential\":[[0.0,\"#0d0887\"],[0.1111111111111111,\"#46039f\"],[0.2222222222222222,\"#7201a8\"],[0.3333333333333333,\"#9c179e\"],[0.4444444444444444,\"#bd3786\"],[0.5555555555555556,\"#d8576b\"],[0.6666666666666666,\"#ed7953\"],[0.7777777777777778,\"#fb9f3a\"],[0.8888888888888888,\"#fdca26\"],[1.0,\"#f0f921\"]],\"sequentialminus\":[[0.0,\"#0d0887\"],[0.1111111111111111,\"#46039f\"],[0.2222222222222222,\"#7201a8\"],[0.3333333333333333,\"#9c179e\"],[0.4444444444444444,\"#bd3786\"],[0.5555555555555556,\"#d8576b\"],[0.6666666666666666,\"#ed7953\"],[0.7777777777777778,\"#fb9f3a\"],[0.8888888888888888,\"#fdca26\"],[1.0,\"#f0f921\"]]},\"colorway\":[\"#636efa\",\"#EF553B\",\"#00cc96\",\"#ab63fa\",\"#FFA15A\",\"#19d3f3\",\"#FF6692\",\"#B6E880\",\"#FF97FF\",\"#FECB52\"],\"font\":{\"color\":\"#2a3f5f\"},\"geo\":{\"bgcolor\":\"white\",\"lakecolor\":\"white\",\"landcolor\":\"#E5ECF6\",\"showlakes\":true,\"showland\":true,\"subunitcolor\":\"white\"},\"hoverlabel\":{\"align\":\"left\"},\"hovermode\":\"closest\",\"mapbox\":{\"style\":\"light\"},\"paper_bgcolor\":\"white\",\"plot_bgcolor\":\"#E5ECF6\",\"polar\":{\"angularaxis\":{\"gridcolor\":\"white\",\"linecolor\":\"white\",\"ticks\":\"\"},\"bgcolor\":\"#E5ECF6\",\"radialaxis\":{\"gridcolor\":\"white\",\"linecolor\":\"white\",\"ticks\":\"\"}},\"scene\":{\"xaxis\":{\"backgroundcolor\":\"#E5ECF6\",\"gridcolor\":\"white\",\"gridwidth\":2,\"linecolor\":\"white\",\"showbackground\":true,\"ticks\":\"\",\"zerolinecolor\":\"white\"},\"yaxis\":{\"backgroundcolor\":\"#E5ECF6\",\"gridcolor\":\"white\",\"gridwidth\":2,\"linecolor\":\"white\",\"showbackground\":true,\"ticks\":\"\",\"zerolinecolor\":\"white\"},\"zaxis\":{\"backgroundcolor\":\"#E5ECF6\",\"gridcolor\":\"white\",\"gridwidth\":2,\"linecolor\":\"white\",\"showbackground\":true,\"ticks\":\"\",\"zerolinecolor\":\"white\"}},\"shapedefaults\":{\"line\":{\"color\":\"#2a3f5f\"}},\"ternary\":{\"aaxis\":{\"gridcolor\":\"white\",\"linecolor\":\"white\",\"ticks\":\"\"},\"baxis\":{\"gridcolor\":\"white\",\"linecolor\":\"white\",\"ticks\":\"\"},\"bgcolor\":\"#E5ECF6\",\"caxis\":{\"gridcolor\":\"white\",\"linecolor\":\"white\",\"ticks\":\"\"}},\"title\":{\"x\":0.05},\"xaxis\":{\"automargin\":true,\"gridcolor\":\"white\",\"linecolor\":\"white\",\"ticks\":\"\",\"title\":{\"standoff\":15},\"zerolinecolor\":\"white\",\"zerolinewidth\":2},\"yaxis\":{\"automargin\":true,\"gridcolor\":\"white\",\"linecolor\":\"white\",\"ticks\":\"\",\"title\":{\"standoff\":15},\"zerolinecolor\":\"white\",\"zerolinewidth\":2}}},\"title\":{\"text\":\"Estat\\u00edstica do com\\u00e9rcio | R\\u00fassia | 2019\"},\"annotations\":[{\"showarrow\":false,\"text\":\"Importa\\u00e7\\u00e3o<br>247B$\",\"x\":0.13,\"y\":0.45,\"font\":{\"size\":16}},{\"showarrow\":false,\"text\":\"Exporta\\u00e7\\u00e3o<br>427B$\",\"x\":0.87,\"y\":0.45,\"font\":{\"size\":16}}]},                        {\"responsive\": true}                    ).then(function(){\n                            \nvar gd = document.getElementById('55b3f867-afd0-48aa-8f6b-1e5b84a27117');\nvar x = new MutationObserver(function (mutations, observer) {{\n        var display = window.getComputedStyle(gd).display;\n        if (!display || display === 'none') {{\n            console.log([gd, 'removed!']);\n            Plotly.purge(gd);\n            observer.disconnect();\n        }}\n}});\n\n// Listen for the removal of the full notebook cells\nvar notebookContainer = gd.closest('#notebook-container');\nif (notebookContainer) {{\n    x.observe(notebookContainer, {childList: true});\n}}\n\n// Listen for the clearing of the current output cell\nvar outputEl = gd.closest('.output');\nif (outputEl) {{\n    x.observe(outputEl, {childList: true});\n}}\n\n                        })                };                            </script>        </div>\n</body>\n</html>"
                },
                "metadata": {}
              }
            ],
            "_view_module": "@jupyter-widgets/output",
            "_model_module_version": "1.0.0",
            "_view_count": null,
            "_view_module_version": "1.0.0",
            "layout": "IPY_MODEL_6554426df4cb4df999d8b01b1bf4a254",
            "_model_module": "@jupyter-widgets/output"
          }
        },
        "29c376d0867941f1849cb29e16669409": {
          "model_module": "@jupyter-widgets/controls",
          "model_name": "SliderStyleModel",
          "model_module_version": "1.5.0",
          "state": {
            "_view_name": "StyleView",
            "handle_color": null,
            "_model_name": "SliderStyleModel",
            "description_width": "",
            "_view_module": "@jupyter-widgets/base",
            "_model_module_version": "1.5.0",
            "_view_count": null,
            "_view_module_version": "1.2.0",
            "_model_module": "@jupyter-widgets/controls"
          }
        },
        "dad3e7467a9d440ca50d3277c1be1454": {
          "model_module": "@jupyter-widgets/base",
          "model_name": "LayoutModel",
          "model_module_version": "1.2.0",
          "state": {
            "_view_name": "LayoutView",
            "grid_template_rows": null,
            "right": null,
            "justify_content": null,
            "_view_module": "@jupyter-widgets/base",
            "overflow": null,
            "_model_module_version": "1.2.0",
            "_view_count": null,
            "flex_flow": null,
            "width": null,
            "min_width": null,
            "border": null,
            "align_items": null,
            "bottom": null,
            "_model_module": "@jupyter-widgets/base",
            "top": null,
            "grid_column": null,
            "overflow_y": null,
            "overflow_x": null,
            "grid_auto_flow": null,
            "grid_area": null,
            "grid_template_columns": null,
            "flex": null,
            "_model_name": "LayoutModel",
            "justify_items": null,
            "grid_row": null,
            "max_height": null,
            "align_content": null,
            "visibility": null,
            "align_self": null,
            "height": null,
            "min_height": null,
            "padding": null,
            "grid_auto_rows": null,
            "grid_gap": null,
            "max_width": null,
            "order": null,
            "_view_module_version": "1.2.0",
            "grid_template_areas": null,
            "object_position": null,
            "object_fit": null,
            "grid_auto_columns": null,
            "margin": null,
            "display": null,
            "left": null
          }
        },
        "6554426df4cb4df999d8b01b1bf4a254": {
          "model_module": "@jupyter-widgets/base",
          "model_name": "LayoutModel",
          "model_module_version": "1.2.0",
          "state": {
            "_view_name": "LayoutView",
            "grid_template_rows": null,
            "right": null,
            "justify_content": null,
            "_view_module": "@jupyter-widgets/base",
            "overflow": null,
            "_model_module_version": "1.2.0",
            "_view_count": null,
            "flex_flow": null,
            "width": null,
            "min_width": null,
            "border": null,
            "align_items": null,
            "bottom": null,
            "_model_module": "@jupyter-widgets/base",
            "top": null,
            "grid_column": null,
            "overflow_y": null,
            "overflow_x": null,
            "grid_auto_flow": null,
            "grid_area": null,
            "grid_template_columns": null,
            "flex": null,
            "_model_name": "LayoutModel",
            "justify_items": null,
            "grid_row": null,
            "max_height": null,
            "align_content": null,
            "visibility": null,
            "align_self": null,
            "height": null,
            "min_height": null,
            "padding": null,
            "grid_auto_rows": null,
            "grid_gap": null,
            "max_width": null,
            "order": null,
            "_view_module_version": "1.2.0",
            "grid_template_areas": null,
            "object_position": null,
            "object_fit": null,
            "grid_auto_columns": null,
            "margin": null,
            "display": null,
            "left": null
          }
        }
      }
    }
  },
  "cells": [
    {
      "cell_type": "markdown",
      "metadata": {
        "id": "view-in-github",
        "colab_type": "text"
      },
      "source": [
        "<a href=\"https://colab.research.google.com/github/jvplopes/Trade-Russia/blob/main/Russia.ipynb\" target=\"_parent\"><img src=\"https://colab.research.google.com/assets/colab-badge.svg\" alt=\"Open In Colab\"/></a>"
      ]
    },
    {
      "cell_type": "markdown",
      "source": [
        "#Dados comerciais da Rússia\n",
        "\n",
        "Enquanto a Rússia continua os ataques militares à Ucrânia e o presidente Zelenskyy solicita esforços de outros países para conter a invasão, sanções econômicas são impostas à Rússia.\n",
        "\n",
        "Países como o Canada, União Europeia, Japão, Nova Zelândia, Taiwan, Reino Unido e Estados Unidos anunciam retaliações econômicas.\n",
        "Até o momento, essas sanções econômicas não foram suficientes para conter a invasão russa.\n",
        "\n",
        "Para verificar o alcance dessas sanções econômicas, verificaremos os dados comercias da Rússia entre os anos de 1996 e 2019 fornecidos pelo [World Integrated Trade Solution (WITS)](https://wits.worldbank.org/https://wits.worldbank.org/).\n"
      ],
      "metadata": {
        "id": "Il2juUPDlnl9"
      }
    },
    {
      "cell_type": "markdown",
      "source": [
        "## Obtenção dos Dados\n",
        "\n",
        "Os dados utilizados foram obtidos pelo [WITS REST API](https://wits.worldbank.org/witsapiintro.aspx?lang=en) que fornece os seguintes valores:\n",
        "\n",
        "| Valor | Descrição |\n",
        "| :-: | :-: |\n",
        "|Reporter|País analisado (ISO3 e nome)|\n",
        "|Partner|Parceiro comercial (ISO3 e nome)|\n",
        "|Product Code|Código do grupo de produto|\n",
        "|Year|Ano|\n",
        "|Indicator|Pode ser um código indicador de Comércio, Tarifa ou Desenvolvimento|\n",
        "\n",
        "Os valores estão em dólar americano (US$). "
      ],
      "metadata": {
        "id": "_aZ00m3uTnVq"
      }
    },
    {
      "cell_type": "markdown",
      "source": [
        "## Análise Exploratória dos Dados\n",
        "\n",
        "Nesta fase, será verificada algumas características do dataset: tamanho, tipos dos dados e dados ausentes."
      ],
      "metadata": {
        "id": "bW6ixKmMXlmx"
      }
    },
    {
      "cell_type": "code",
      "source": [
        "#world_trade_data API\n",
        "!pip install world_trade_data --upgrade\n",
        "\n",
        "#API\n",
        "import world_trade_data as wits"
      ],
      "metadata": {
        "id": "FPwUyneBsw9D"
      },
      "execution_count": null,
      "outputs": []
    },
    {
      "cell_type": "code",
      "source": [
        "#Todos os produtos do API\n",
        "products = wits.get_products()"
      ],
      "metadata": {
        "id": "80-sYuOEXyzm"
      },
      "execution_count": 3,
      "outputs": []
    },
    {
      "cell_type": "code",
      "source": [
        "products.info()"
      ],
      "metadata": {
        "id": "J249kHIMYX3r"
      },
      "execution_count": null,
      "outputs": []
    },
    {
      "cell_type": "markdown",
      "source": [
        "São 31 produtos fornecidos pelo API, sem valores nulos."
      ],
      "metadata": {
        "id": "rlxZp1u-YcDU"
      }
    },
    {
      "cell_type": "code",
      "source": [
        "#Todos os países fornecidos pelo API\n",
        "countries = wits.get_countries()"
      ],
      "metadata": {
        "id": "e3DM3sqsYt2k"
      },
      "execution_count": 4,
      "outputs": []
    },
    {
      "cell_type": "code",
      "source": [
        "countries.info()"
      ],
      "metadata": {
        "id": "y-DqV7uZY8gq"
      },
      "execution_count": null,
      "outputs": []
    },
    {
      "cell_type": "markdown",
      "source": [
        "São fornecidos dados de 266 paises."
      ],
      "metadata": {
        "id": "I4hbx83RZEjI"
      }
    },
    {
      "cell_type": "code",
      "source": [
        "#Indicadores fornecidos pelo API\n",
        "indicators = wits.get_indicators()"
      ],
      "metadata": {
        "id": "nFNo7cTWZORH"
      },
      "execution_count": 5,
      "outputs": []
    },
    {
      "cell_type": "code",
      "source": [
        "indicators.info()"
      ],
      "metadata": {
        "id": "LB0aqVwpZY4c"
      },
      "execution_count": null,
      "outputs": []
    },
    {
      "cell_type": "markdown",
      "source": [
        "O API fornece 20 indicadores para análise. Nessa análise utilizaremos o MPRT-TRD-VL e XPRT-TRD-VL."
      ],
      "metadata": {
        "id": "zOX-bNTdZloZ"
      }
    },
    {
      "cell_type": "code",
      "source": [
        "#Plot com interação\n",
        "!pip install ipywidgets -q"
      ],
      "metadata": {
        "id": "U-MyM5cv50cx"
      },
      "execution_count": 6,
      "outputs": []
    },
    {
      "cell_type": "code",
      "source": [
        "import plotly.graph_objects as go\n",
        "from plotly.subplots import make_subplots\n",
        "from plotly import io\n",
        "import plotly\n",
        "import matplotlib.pyplot as plt\n",
        "import pandas as pd\n",
        "import matplotlib.ticker as tick\n",
        "\n",
        "#interação\n",
        "from ipywidgets import interact, fixed, interact_manual\n",
        "import ipywidgets as widgets"
      ],
      "metadata": {
        "id": "tSATIXXEU-EN"
      },
      "execution_count": 7,
      "outputs": []
    },
    {
      "cell_type": "code",
      "source": [
        "#cores\n",
        "\n",
        "blue = '#546de5'\n",
        "red = '#e15f41'\n",
        "gray='#596275'\n",
        "dark_gray='#303952'"
      ],
      "metadata": {
        "id": "6E7l0ck6nuta"
      },
      "execution_count": 8,
      "outputs": []
    },
    {
      "cell_type": "code",
      "source": [
        "#Transforma os tick de valores altos (Bilhões, milhões e milhares) em abreviações B, M e K.\n",
        "def format_tick(tick_val, pos):\n",
        "    if tick_val >= 1000000000:\n",
        "        val = round(tick_val/1000000000, 1)\n",
        "        new_tick_format = '{:} B'.format(val)\n",
        "    elif tick_val >= 1000000:\n",
        "        val = round(tick_val/1000000, 1)\n",
        "        new_tick_format = '{:} M'.format(val)\n",
        "    elif tick_val >= 1000:\n",
        "        val = round(tick_val/1000, 1)\n",
        "        new_tick_format = '{:} K'.format(val)\n",
        "    elif tick_val < 1000:\n",
        "        new_tick_format = round(tick_val, 1)\n",
        "    else:\n",
        "        new_tick_format = tick_val\n",
        "\n",
        "    # Converte o new_tick_format em string\n",
        "    new_tick_format = str(new_tick_format)\n",
        "    \n",
        "    # Remove o 0 após o ponto decimal.\n",
        "    index_of_decimal = new_tick_format.find(\".\")\n",
        "    \n",
        "    if index_of_decimal != -1:\n",
        "        value_after_decimal = new_tick_format[index_of_decimal+1]\n",
        "        if value_after_decimal == \"0\":\n",
        "            # Remove o 0 após o ponto\n",
        "            new_tick_format = new_tick_format[0:index_of_decimal] + new_tick_format[index_of_decimal+2:]\n",
        "            \n",
        "    return new_tick_format"
      ],
      "metadata": {
        "id": "PHJY69L2z7Xl"
      },
      "execution_count": 9,
      "outputs": []
    },
    {
      "cell_type": "markdown",
      "source": [
        "##Importação e Exportação | Rússia\n",
        "\n",
        "O API fornece dados comerciais entre os anos de 1996 e 2019"
      ],
      "metadata": {
        "id": "Eq8SFRB1l7Xe"
      }
    },
    {
      "cell_type": "code",
      "source": [
        "#Anos contidos no dataset 1996-2019\n",
        "years = range(1996,2020)"
      ],
      "metadata": {
        "id": "hNjvJV0YrjLo"
      },
      "execution_count": 10,
      "outputs": []
    },
    {
      "cell_type": "code",
      "source": [
        "#Valores totais de importação e exportação por ano\n",
        "imports_total = []\n",
        "exports_total = []"
      ],
      "metadata": {
        "id": "_U8M2B_mxVHQ"
      },
      "execution_count": 11,
      "outputs": []
    },
    {
      "cell_type": "code",
      "source": [
        "#Função que preenche as listas 'imports_total' e 'exports_total'\n",
        "def trade_by_year(year):\n",
        "  for year in years:\n",
        "\n",
        "    imports = wits.get_indicator('MPRT-TRD-VL', reporter='rus', year=str(year))\n",
        "    total = imports.Value.array[23] * 1000\n",
        "    imports_total.append(total)\n",
        "\n",
        "\n",
        "    exports = wits.get_indicator('XPRT-TRD-VL', reporter='rus', year=str(year))\n",
        "    total = exports.Value.array[23] * 1000\n",
        "    exports_total.append(total)\n",
        "\n",
        "trade_by_year(years)"
      ],
      "metadata": {
        "id": "bECOvWeVxef4"
      },
      "execution_count": 12,
      "outputs": []
    },
    {
      "cell_type": "code",
      "source": [
        "#Line Plot\n",
        "fig, ax = plt.subplots(figsize=(16,6), dpi=72)\n",
        "\n",
        "x = years\n",
        "\n",
        "#personaliza a label do eixo x\n",
        "p =list(years)\n",
        "p[4] = '2000 \\n Putin\\n eleito presidente'\n",
        "p[12] = '2008 \\n Georgia'\n",
        "p[18] = '2014 \\n Crimeia'\n",
        "\n",
        "#Imports\n",
        "ax.plot(x, imports_total, color=blue, linewidth=2)\n",
        "\n",
        "#Exports\n",
        "ax.plot(x, exports_total, color=red, linewidth=2)\n",
        "\n",
        "#Configurar xticks para exibir todos os anos\n",
        "ax.set_xticks(ticks=years);\n",
        "ax.set_xticklabels(labels=p, rotation=0.0);\n",
        "\n",
        "# title\n",
        "ax.text(0,1,'Comércio mundial | Rússia', fontsize=22, color=dark_gray, fontweight='bold', transform=ax.transAxes)\n",
        "#ax.text(-0.5, 230,'KPI de engajamento, que considera a quantidade\\nde acessos únicos e projetos enviados para\\nrevisão  do Sigmoidal', fontsize=13, color=gray)\n",
        "\n",
        "\n",
        "# remover spines da direita e superior\n",
        "ax.spines['right'].set_visible(False)\n",
        "ax.spines['top'].set_visible(False)\n",
        "\n",
        "#Linha vertical\n",
        "ax.axvline(2000, color=gray, linestyle='--', lw=0.5)\n",
        "ax.axvline(2008, color=gray, linestyle='--', lw=0.5)\n",
        "ax.axvline(2014, color=gray, linestyle='--', lw=0.5)\n",
        "\n",
        "#Personaliza o ytick\n",
        "ax.yaxis.set_major_formatter(tick.FuncFormatter(format_tick))\n",
        "\n",
        "ax.plot(x, imports_total, label='Importações')\n",
        "ax.plot(x, exports_total, label='Exportações')\n",
        "leg = ax.legend(loc='upper right')\n",
        "\n",
        "# plots dos scatter plots\n",
        "ax.scatter(x[-1:], imports_total[-1:], s=90, color=blue, clip_on=False)\n",
        "ax.scatter(x[-1:], exports_total[-1:], s=90, color=red, clip_on=False)\n",
        "\n",
        "fig.savefig('russiatrade.png')\n",
        "\n"
      ],
      "metadata": {
        "colab": {
          "base_uri": "https://localhost:8080/",
          "height": 415
        },
        "id": "JCVY6DTgztsT",
        "outputId": "7b2961d2-f725-4726-a73b-3a588e02a6df"
      },
      "execution_count": 30,
      "outputs": [
        {
          "output_type": "display_data",
          "data": {
            "image/png": "[encoded data removed]",
            "text/plain": [
              "<Figure size 1152x432 with 1 Axes>"
            ]
          },
          "metadata": {
            "needs_background": "light"
          }
        }
      ]
    },
    {
      "cell_type": "markdown",
      "source": [
        "O atual presidente da Rússia, Putin, assumiu a presidência no dia 7 de maio de 2000. Nesse ano, as exportações Russas estavam no valor de 103 bilhões e as importações em 33 bilhões.\n",
        "Em 2013, a Rússia alcançou o maior valor de exportação (529 bilhões) e de importação (314 bilhões).\n",
        "Durante esse período, o Putin só deixou a presidência no período de 2008 a 2012, período no qual ele exerceu a função de 1º ministro."
      ],
      "metadata": {
        "id": "iLccETp72Vuq"
      }
    },
    {
      "cell_type": "code",
      "source": [
        "imports_musd = imports_total[-1]\n",
        "exports_musd = exports_total[-1]\n",
        "print('Ano: 2019')\n",
        "print('Importação: ', imports_musd)\n",
        "print('Importação: ', exports_musd)"
      ],
      "metadata": {
        "colab": {
          "base_uri": "https://localhost:8080/"
        },
        "id": "SK3cmIzPJQlT",
        "outputId": "3031420f-1fb4-4976-8012-ad60b6573a0b"
      },
      "execution_count": 34,
      "outputs": [
        {
          "output_type": "stream",
          "name": "stdout",
          "text": [
            "Ano: 2019\n",
            "Importação:  247161342900.21\n",
            "Importação:  426720332660.17004\n"
          ]
        }
      ]
    },
    {
      "cell_type": "markdown",
      "source": [
        "##Comércio por produto | Rússia\n",
        "\n",
        "O principal setor de exportação da Rússia é o de combustíveis (gás natural e petróleo). Em 2014, esse setor era responsável por 69% da exportações. Após as sanções de 2014, chegou ao nível de 48% em 2016 e 52% em 2019.\n",
        "\n",
        "Em 2022 está previsto o lançamento de um segundo gasoduto (Nord Stream II) que levará gás natural para a Alemanha. Após a invasão na Ucrânia, a Alemanha ameaçou não ativar o gasoduto.\n",
        "\n",
        "O segundo maior setor de exportação (metais) manteve-se na mesma proporção (8%). Outros setores, praticamente não sofreram modificações."
      ],
      "metadata": {
        "id": "FgevGuwomWD1"
      }
    },
    {
      "cell_type": "code",
      "source": [
        "def get_html(ano):\n",
        "  year = str(ano)\n",
        "\n",
        "  imports = wits.get_indicator('MPRT-TRD-VL', reporter='rus', year=year)\n",
        "  exports = wits.get_indicator('XPRT-TRD-VL', reporter='rus', year=year)\n",
        "\n",
        "  imports = imports.loc['Annual'].loc['Russian Federation'].loc['World']\n",
        "  exports = exports.loc['Annual'].loc['Russian Federation'].loc['World']\n",
        "\n",
        "  #Setores excluindo a entrada 'All Products'\n",
        "  sectors = products.loc[(products.grouptype=='Sector') & (products.index!='Total')].productdescription.values\n",
        "\n",
        "  imports.loc[sectors].Value\n",
        "\n",
        "\n",
        "  imports_musd = imports.loc[sectors].Value * 1000\n",
        "  exports_musd = exports.loc[sectors].Value * 1000\n",
        "\n",
        "  fig = make_subplots(rows=1, cols=2, specs=[[{'type':'domain'}, {'type':'domain'}]])\n",
        "  fig.add_trace(go.Pie(labels=sectors, values=imports_musd, name=\"Imports\"), 1, 1)\n",
        "  fig.add_trace(go.Pie(labels=sectors, values=exports_musd, name=\"Exports\"), 1, 2)\n",
        "\n",
        "  fig.update_traces(hole=.4, \n",
        "                    #scalegroup='rus',\n",
        "                    textinfo='label',\n",
        "                    hovertemplate = \"%{label}<br>%{value:,.0f}M$<br>%{percent}\")\n",
        "\n",
        "  fig.update_layout(\n",
        "      title_text=\"Estatística do comércio | Rússia | \" + str(year),\n",
        "      annotations=[dict(text='Importação<br>{:.0f}B$'.format(imports_musd.sum()/1e9),\n",
        "                        x=0.13, y=0.45, font_size=16, showarrow=False),\n",
        "                  dict(text='Exportação<br>{:.0f}B$'.format(exports_musd.sum()/1e9),\n",
        "                        x=0.87, y=0.45, font_size=16, showarrow=False)\n",
        "                        ]\n",
        "  )\n",
        "\n",
        "  #plotly.offline.plot(fig, filename='/content/'+ year +'.html')\n",
        "  fig.show();\n"
      ],
      "metadata": {
        "id": "fenu5q6NUjUJ"
      },
      "execution_count": 45,
      "outputs": []
    },
    {
      "cell_type": "code",
      "source": [
        "# muda o slope, sabendo que é um integer, ele sabe que é slider\n",
        "\n",
        "interact(get_html, ano=(1996,2019,1))"
      ],
      "metadata": {
        "colab": {
          "base_uri": "https://localhost:8080/",
          "height": 591,
          "referenced_widgets": [
            "965239628c2a450a9bb448ce414bec6f",
            "c3a48cbbd5a84e1fbf3876825dad13e4",
            "5fdd92d384504d25b51a924570d2cb9f",
            "b0e8adc66e3d4eabaf8d27758cb26f8d",
            "29c376d0867941f1849cb29e16669409",
            "dad3e7467a9d440ca50d3277c1be1454",
            "6554426df4cb4df999d8b01b1bf4a254"
          ]
        },
        "id": "PeJSv_eFYa4_",
        "outputId": "cfcaf9f7-09be-40aa-8512-ea721cb85a0a"
      },
      "execution_count": 46,
      "outputs": [
        {
          "output_type": "display_data",
          "data": {
            "application/vnd.jupyter.widget-view+json": {
              "model_id": "965239628c2a450a9bb448ce414bec6f",
              "version_minor": 0,
              "version_major": 2
            },
            "text/plain": [
              "interactive(children=(IntSlider(value=2007, description='ano', max=2019, min=1996), Output()), _dom_classes=('…"
            ]
          },
          "metadata": {}
        },
        {
          "output_type": "execute_result",
          "data": {
            "text/plain": [
              "<function __main__.get_html>"
            ]
          },
          "metadata": {},
          "execution_count": 46
        }
      ]
    },
    {
      "cell_type": "markdown",
      "source": [
        "##Principais parceiros comerciais | 2019"
      ],
      "metadata": {
        "id": "LPg2rsaXmn01"
      }
    },
    {
      "cell_type": "markdown",
      "source": [
        "Os principais parceiros comerciais da Rússia em 2019 são: China, Holanda, Alemanha, Bielorrússia, Turquia e Itália."
      ],
      "metadata": {
        "id": "XUbavzWtBSdl"
      }
    },
    {
      "cell_type": "code",
      "source": [
        "#Lista com os dados dos países (nome, iso code, total de importação, total de exportação)\n",
        "countries_data = []"
      ],
      "metadata": {
        "id": "PtydwWVR2Qs0"
      },
      "execution_count": 47,
      "outputs": []
    },
    {
      "cell_type": "code",
      "source": [
        "#Carrega o coutries_data com os dados\n",
        "def countries_data_load(countries):\n",
        "  for index, row in countries.iterrows():\n",
        "    #Nome e Iso code 3\n",
        "    name = row[0]\n",
        "    code = row.name\n",
        "\n",
        "    #Total import\n",
        "    \n",
        "    try:\n",
        "      imports = wits.get_indicator('MPRT-TRD-VL', reporter='rus', year='2019', partner=code)\n",
        "\n",
        "      #valores das importaçãos\n",
        "      valores = imports.Value\n",
        "\n",
        "      #Valor máximo, que é o All products\n",
        "      imports_total = valores.max() *1000\n",
        "\n",
        "    except:\n",
        "      #print(code, name)\n",
        "      imports_total = 0\n",
        "    \n",
        "    \n",
        "    #Total export\n",
        "    try:\n",
        "      exports = wits.get_indicator('XPRT-TRD-VL', reporter='rus', year='2019', partner=code)\n",
        "\n",
        "      #valores das exportações\n",
        "      valores = exports.Value \n",
        "\n",
        "      #Valor máximo, que é o All products\n",
        "      exports_total = valores.max() *1000\n",
        "    except:\n",
        "      #print(code, name)\n",
        "      exports_total = 0\n",
        "\n",
        "    countries_data.append([code, name, imports_total, exports_total])\n",
        "\n",
        "countries_data_load(countries)"
      ],
      "metadata": {
        "id": "eB7B6eTR_z0g"
      },
      "execution_count": 48,
      "outputs": []
    },
    {
      "cell_type": "code",
      "source": [
        "#Cria o dataframe com os valores dos países\n",
        "df_partners = pd.DataFrame(data=countries_data, index=None, columns=['iso_code_3', 'partner', 'import_total', 'export_total'])"
      ],
      "metadata": {
        "id": "hi45pFulJRPD"
      },
      "execution_count": 49,
      "outputs": []
    },
    {
      "cell_type": "code",
      "source": [
        "# Remoção de entradas que não são países\n",
        "excluidos = ['World', 'Europe & Central Asia', 'East Asia & Pacific',\n",
        "             'North America\t', 'Latin America & Caribbean\t', 'Middle East & North Africa',\n",
        "             'North America', 'South Asia']\n",
        "\n",
        "df_partners = df_partners.drop(df_partners.loc[df_partners['partner'].isin(excluidos)].index)\n",
        "\n",
        "df_partners.drop_duplicates(subset=['iso_code_3'])"
      ],
      "metadata": {
        "id": "4QNbhFR-I3f6"
      },
      "execution_count": null,
      "outputs": []
    },
    {
      "cell_type": "code",
      "source": [
        "#Países com maiores valores de importação\n",
        "imports_partners = df_partners.sort_values(by = \"import_total\", ascending = False)[0:5]"
      ],
      "metadata": {
        "id": "5ngFi5KTIaTh"
      },
      "execution_count": 51,
      "outputs": []
    },
    {
      "cell_type": "code",
      "source": [
        "#Total de importações dos 5 países parceiros\n",
        "imports_partners_total = imports_partners.import_total.sum()"
      ],
      "metadata": {
        "id": "IYWW82ToC7Gi"
      },
      "execution_count": 52,
      "outputs": []
    },
    {
      "cell_type": "code",
      "source": [
        "#total percent\n",
        "imports_partners_total / imports_musd.sum() * 100"
      ],
      "metadata": {
        "id": "rxLG1TARPh7b"
      },
      "execution_count": null,
      "outputs": []
    },
    {
      "cell_type": "code",
      "source": [
        "#Países com maiores valores de exportação\n",
        "exports_partners = df_partners.sort_values(by = \"export_total\", ascending = False)[0:5]"
      ],
      "metadata": {
        "id": "M7SVksFzCslZ"
      },
      "execution_count": 55,
      "outputs": []
    },
    {
      "cell_type": "code",
      "source": [
        "#Total de exportações dos 5 países parceiros\n",
        "exports_partners_total = exports_partners.import_total.sum()"
      ],
      "metadata": {
        "id": "jU8Vy_KBDvxc"
      },
      "execution_count": null,
      "outputs": []
    },
    {
      "cell_type": "code",
      "source": [
        "#total percent\n",
        "exports_partners_total /exports_musd * 100"
      ],
      "metadata": {
        "id": "9jHnNvXfP-Id"
      },
      "execution_count": null,
      "outputs": []
    },
    {
      "cell_type": "code",
      "source": [
        "#Gŕaficos em barra\n",
        "fig, ax = plt.subplots(nrows=1, ncols=2, figsize=(14,6))\n",
        "\n",
        "#Gráfico 1\n",
        "ax[0].bar(exports_partners.partner, exports_partners.export_total, color=red)\n",
        "\n",
        "#Gráfico 2\n",
        "ax[1].bar(imports_partners.partner, imports_partners.export_total, color=blue)\n",
        "\n",
        "# remover spines da direita e superior\n",
        "ax[0].spines['right'].set_visible(False)\n",
        "ax[0].spines['top'].set_visible(False)\n",
        "ax[1].spines['right'].set_visible(False)\n",
        "ax[1].spines['top'].set_visible(False)\n",
        "\n",
        "#Personaliza o ytick\n",
        "ax[0].yaxis.set_major_formatter(tick.FuncFormatter(format_tick))\n",
        "ax[1].yaxis.set_major_formatter(tick.FuncFormatter(format_tick))\n",
        "\n",
        "#Título\n",
        "ax[0].text(2, 50000000000,'Exportação', fontsize=24, color=gray, fontweight='bold')\n",
        "ax[1].text(2, 50000000000,'Importação', fontsize=24, color=gray, fontweight='bold')\n",
        "\n",
        "fig.savefig('partners.png')\n"
      ],
      "metadata": {
        "colab": {
          "base_uri": "https://localhost:8080/",
          "height": 377
        },
        "id": "-r9txynS-hka",
        "outputId": "91cf7c1d-205a-45b3-ab70-1baafa226539"
      },
      "execution_count": 74,
      "outputs": [
        {
          "output_type": "display_data",
          "data": {
            "image/png": "[encoded data removed]",
            "text/plain": [
              "<Figure size 1008x432 with 2 Axes>"
            ]
          },
          "metadata": {
            "needs_background": "light"
          }
        }
      ]
    },
    {
      "cell_type": "markdown",
      "source": [
        "Os principais parceiros de exportação correspondem à 23,8% do total. Entre eles dois países pertencem à União Européia (Holanda e Alemanha), a Turquia é candidata à adesão.\n",
        "\n",
        "Os principais parceiros de importação correspondem a 47% do valor total. Entre eles estão os Estados Unidos e dois países da União Européia, Alemanha e Itália."
      ],
      "metadata": {
        "id": "EuDPCw32QDi4"
      }
    },
    {
      "cell_type": "markdown",
      "source": [
        "##Sanções\n",
        "\n",
        "Em 2008, a Rússia invadiu um dos países vizinhos, Geórgia. Durante e após a invasão não foram aplicadas sanções comerciais à Rússia.\n",
        "Em 2009, os valores de exportação e importação baixaram, mas dois anos após a invasão (2011) ultrapassaram os valores de 5 bilhões e 3 bilhões, respectivamente.\n",
        "\n",
        "|Ano|Importações|Exportações|\n",
        "|:-:|:-:|:-:|\n",
        "|2008|267 B|457 B|\n",
        "|2009|170 B|301 B|\n",
        "|2011|306 B|516 B|\n",
        "\n",
        "Em 2014, a Rússia anexou a Crimeia que pertencia ao território Ucraniano. No mesmo anos a União Européia e os Estados Unidos anunciaram sanções econômicas contra a Rússia. As sanções foram sobre comércio no setor bélico, energético e agropecuário.\n",
        "\n",
        "Após as sanções de 2014, os valores de exportações e importações sofreram novas baixas, voltando a demostrar melhoras somente 2017.\n",
        "\n",
        "|Ano|Importações|Exportações|\n",
        "|:-:|:-:|:-:|\n",
        "|2014|286 B|497 B|\n",
        "|2015|182 B|343 B|\n",
        "|2017|259 B|379 B|\n",
        "\n",
        "Em 2022, tropas russas invadiram a Ucrânia, desta vez com destino à capital, Kiev. Em pouco tempo, líderes mundiais anunciaram sanções comerciais.\n",
        "\n",
        "Os Estados Unidos anunciaram que bloquearão o banco central de realizar transações em dólar americano e restrições de exportação para a Rússia que afetarão o setor de tecnologia.\n",
        "\n",
        ">\"this includes Russia-wide restrictions on semiconductors, telecommunication, encryption security, lasers, sensors, navigation, avionics and maritime technologies.\" White House\n",
        "\n",
        "O Reino Unido também pretende limitar exportações na área de tercnologia e transações bancárias com a Rússia.\n",
        "\n",
        ">\"in sectors including electronics, telecommunications, and aerospace,\" Boris Johnson\n",
        "\n",
        "A União européia anunciou que irá rever as importações no setor energético oriundos da Rússia e, assim como Reino Unido e EUA, irá impedir transações bancárias de alguns bancos da Rússia.\n",
        "\n",
        "A Turquia anunciou restrições portuárias à navios russos.\n",
        "\n",
        "A Alemanha anunciou que irá cancelar a inauguração do gasoduto North Stream 2 e estuda rever a importação de gás natural pelo North Stream 1.\n",
        "\n",
        "A Itália anunciou que pretende rever a importação de gás natural da Rússia e também irá restringir ações banćarias russas.\n",
        "\n",
        "As sanções atingem principalmente os setores:\n",
        "- Bancário\n",
        "- Energético\n",
        "- Tecnológico\n",
        "- Portuário"
      ],
      "metadata": {
        "id": "c5v5Ioqm504k"
      }
    },
    {
      "cell_type": "markdown",
      "source": [
        "##Rússia e Brasil | 2019\n",
        "\n",
        "O Brasil e a Rússia compõem o [BRICS](https://pt.wikipedia.org/wiki/BRICS) juntamente com a China, Índia e África do Sul. Além de interesses políticos, os países compartilham de interesses econômicos.\n",
        "\n",
        "Desde o começo dos ataques à Ucrânia, o Brasil mantem a tradicional neutralidade diplomatica em conflitos bélicos internacionais. Até o momento não anunciou qualquer sanção econômica contra a Rússia.\n",
        "\n",
        "O Brasil importa principalmente produtos químicos, combustíveis da Rússia e exporta principalmente produtos de origem vegetal e animal. Entre os produtos químicos estão algumas matérias primas utilizadas na agroindústria brasileira.\n",
        "\n",
        "\n",
        "Comércio Rússia - Brasil:\n",
        "- Exportações: US$ 2,4 Bilhões.\n",
        "\n",
        "- Importações: US$ 2,1 Bilhões."
      ],
      "metadata": {
        "id": "JKQjSAQbcNdl"
      }
    },
    {
      "cell_type": "code",
      "source": [
        "year = '2019'"
      ],
      "metadata": {
        "id": "nOhv19X1c44Q"
      },
      "execution_count": 75,
      "outputs": []
    },
    {
      "cell_type": "code",
      "source": [
        "imports = wits.get_indicator('MPRT-TRD-VL', reporter='rus', year=year, partner='bra')\n",
        "exports = wits.get_indicator('XPRT-TRD-VL', reporter='rus', year=year, partner='bra')"
      ],
      "metadata": {
        "id": "PTe2h_pVc8gi"
      },
      "execution_count": 76,
      "outputs": []
    },
    {
      "cell_type": "code",
      "source": [
        "imports = imports.loc['Annual'].loc['Russian Federation'].loc['Brazil']\n",
        "exports = exports.loc['Annual'].loc['Russian Federation'].loc['Brazil']"
      ],
      "metadata": {
        "id": "i5w88_vodPGm"
      },
      "execution_count": 77,
      "outputs": []
    },
    {
      "cell_type": "code",
      "source": [
        "sectors = products.loc[(products.grouptype=='Sector') & (products.index!='Total')].productdescription.values"
      ],
      "metadata": {
        "id": "_OcCjNUldW00"
      },
      "execution_count": 78,
      "outputs": []
    },
    {
      "cell_type": "code",
      "source": [
        "imports_musd = imports.loc[sectors].Value\n",
        "exports_musd = exports.loc[sectors].Value"
      ],
      "metadata": {
        "id": "EBVX3x68dccj"
      },
      "execution_count": 79,
      "outputs": []
    },
    {
      "cell_type": "code",
      "source": [
        "#Plotagem\n",
        "fig = make_subplots(rows=1, cols=2, specs=[[{'type':'domain'}, {'type':'domain'}]])\n",
        "fig.add_trace(go.Pie(labels=sectors, values=imports_musd, name=\"Imports\"), 1, 1)\n",
        "fig.add_trace(go.Pie(labels=sectors, values=exports_musd, name=\"Exports\"), 1, 2)\n",
        "\n",
        "fig.update_traces(hole=.4, \n",
        "                    #scalegroup='rus',\n",
        "                    textinfo='label',\n",
        "                    hovertemplate = \"%{label}<br>%{value:,.0f}M$<br>%{percent}\")\n",
        "\n",
        "fig.update_layout(\n",
        "      title_text=\"Estatística do comércio | Rússia - Brasil | \" + str(year),\n",
        "      annotations=[dict(text='Importações<br>{:.2f}B$'.format(imports_musd.sum()/1e6),\n",
        "                        x=0.17, y=0.5, font_size=16, showarrow=False),\n",
        "                  dict(text='Exportações<br>{:.2f}B$'.format(exports_musd.sum()/1e6),\n",
        "                        x=0.83, y=0.5, font_size=16, showarrow=False)\n",
        "                        ]\n",
        "  )\n",
        "\n",
        "#plotly.offline.plot(fig, filename='/content/'+ year +'.html')\n",
        "fig.show();"
      ],
      "metadata": {
        "colab": {
          "base_uri": "https://localhost:8080/",
          "height": 542
        },
        "id": "L_mK3DEYcu6Z",
        "outputId": "d5e1f74c-03f5-429d-9671-464645fa58a3"
      },
      "execution_count": 82,
      "outputs": [
        {
          "output_type": "display_data",
          "data": {
            "text/html": [
              "<html>\n",
              "<head><meta charset=\"utf-8\" /></head>\n",
              "<body>\n",
              "    <div>            <script src=\"https://cdnjs.cloudflare.com/ajax/libs/mathjax/2.7.5/MathJax.js?config=TeX-AMS-MML_SVG\"></script><script type=\"text/javascript\">if (window.MathJax) {MathJax.Hub.Config({SVG: {font: \"STIX-Web\"}});}</script>                <script type=\"text/javascript\">window.PlotlyConfig = {MathJaxConfig: 'local'};</script>\n",
              "        <script src=\"https://cdn.plot.ly/plotly-2.8.3.min.js\"></script>                <div id=\"d9425c69-812c-44f1-ab0b-9710aae5598b\" class=\"plotly-graph-div\" style=\"height:525px; width:100%;\"></div>            <script type=\"text/javascript\">                                    window.PLOTLYENV=window.PLOTLYENV || {};                                    if (document.getElementById(\"d9425c69-812c-44f1-ab0b-9710aae5598b\")) {                    Plotly.newPlot(                        \"d9425c69-812c-44f1-ab0b-9710aae5598b\",                        [{\"labels\":[\"Animal\",\"Vegetable\",\"Food Products\",\"Minerals\",\"Fuels\",\"Chemicals\",\"Plastic or Rubber\",\"Hides and Skins\",\"Wood\",\"Textiles and Clothing\",\"Footwear\",\"Stone and Glass\",\"Metals\",\"Mach and Elec\",\"Transportation\",\"Miscellaneous\"],\"name\":\"Imports\",\"values\":[511265.13682,649553.09599,331015.53673,4555.53398,13.46026,234546.36222,17709.85905,2213.29347,19666.57229,3694.25947,13742.27744,9066.75382,137740.97164,126648.09612,86284.14214,6319.72487],\"type\":\"pie\",\"domain\":{\"x\":[0.0,0.45],\"y\":[0.0,1.0]},\"hole\":0.4,\"hovertemplate\":\"%{label}<br>%{value:,.0f}M$<br>%{percent}\",\"textinfo\":\"label\"},{\"labels\":[\"Animal\",\"Vegetable\",\"Food Products\",\"Minerals\",\"Fuels\",\"Chemicals\",\"Plastic or Rubber\",\"Hides and Skins\",\"Wood\",\"Textiles and Clothing\",\"Footwear\",\"Stone and Glass\",\"Metals\",\"Mach and Elec\",\"Transportation\",\"Miscellaneous\"],\"name\":\"Exports\",\"values\":[144.95591,24936.45954,1414.33802,31345.08296,306742.20952,1913198.71304,60152.27537,0.08,8917.16635,821.59456,13.0617,1346.4674,55605.39143,38234.87241,8677.85769,3169.34607],\"type\":\"pie\",\"domain\":{\"x\":[0.55,1.0],\"y\":[0.0,1.0]},\"hole\":0.4,\"hovertemplate\":\"%{label}<br>%{value:,.0f}M$<br>%{percent}\",\"textinfo\":\"label\"}],                        {\"template\":{\"data\":{\"bar\":[{\"error_x\":{\"color\":\"#2a3f5f\"},\"error_y\":{\"color\":\"#2a3f5f\"},\"marker\":{\"line\":{\"color\":\"#E5ECF6\",\"width\":0.5},\"pattern\":{\"fillmode\":\"overlay\",\"size\":10,\"solidity\":0.2}},\"type\":\"bar\"}],\"barpolar\":[{\"marker\":{\"line\":{\"color\":\"#E5ECF6\",\"width\":0.5},\"pattern\":{\"fillmode\":\"overlay\",\"size\":10,\"solidity\":0.2}},\"type\":\"barpolar\"}],\"carpet\":[{\"aaxis\":{\"endlinecolor\":\"#2a3f5f\",\"gridcolor\":\"white\",\"linecolor\":\"white\",\"minorgridcolor\":\"white\",\"startlinecolor\":\"#2a3f5f\"},\"baxis\":{\"endlinecolor\":\"#2a3f5f\",\"gridcolor\":\"white\",\"linecolor\":\"white\",\"minorgridcolor\":\"white\",\"startlinecolor\":\"#2a3f5f\"},\"type\":\"carpet\"}],\"choropleth\":[{\"colorbar\":{\"outlinewidth\":0,\"ticks\":\"\"},\"type\":\"choropleth\"}],\"contour\":[{\"colorbar\":{\"outlinewidth\":0,\"ticks\":\"\"},\"colorscale\":[[0.0,\"#0d0887\"],[0.1111111111111111,\"#46039f\"],[0.2222222222222222,\"#7201a8\"],[0.3333333333333333,\"#9c179e\"],[0.4444444444444444,\"#bd3786\"],[0.5555555555555556,\"#d8576b\"],[0.6666666666666666,\"#ed7953\"],[0.7777777777777778,\"#fb9f3a\"],[0.8888888888888888,\"#fdca26\"],[1.0,\"#f0f921\"]],\"type\":\"contour\"}],\"contourcarpet\":[{\"colorbar\":{\"outlinewidth\":0,\"ticks\":\"\"},\"type\":\"contourcarpet\"}],\"heatmap\":[{\"colorbar\":{\"outlinewidth\":0,\"ticks\":\"\"},\"colorscale\":[[0.0,\"#0d0887\"],[0.1111111111111111,\"#46039f\"],[0.2222222222222222,\"#7201a8\"],[0.3333333333333333,\"#9c179e\"],[0.4444444444444444,\"#bd3786\"],[0.5555555555555556,\"#d8576b\"],[0.6666666666666666,\"#ed7953\"],[0.7777777777777778,\"#fb9f3a\"],[0.8888888888888888,\"#fdca26\"],[1.0,\"#f0f921\"]],\"type\":\"heatmap\"}],\"heatmapgl\":[{\"colorbar\":{\"outlinewidth\":0,\"ticks\":\"\"},\"colorscale\":[[0.0,\"#0d0887\"],[0.1111111111111111,\"#46039f\"],[0.2222222222222222,\"#7201a8\"],[0.3333333333333333,\"#9c179e\"],[0.4444444444444444,\"#bd3786\"],[0.5555555555555556,\"#d8576b\"],[0.6666666666666666,\"#ed7953\"],[0.7777777777777778,\"#fb9f3a\"],[0.8888888888888888,\"#fdca26\"],[1.0,\"#f0f921\"]],\"type\":\"heatmapgl\"}],\"histogram\":[{\"marker\":{\"pattern\":{\"fillmode\":\"overlay\",\"size\":10,\"solidity\":0.2}},\"type\":\"histogram\"}],\"histogram2d\":[{\"colorbar\":{\"outlinewidth\":0,\"ticks\":\"\"},\"colorscale\":[[0.0,\"#0d0887\"],[0.1111111111111111,\"#46039f\"],[0.2222222222222222,\"#7201a8\"],[0.3333333333333333,\"#9c179e\"],[0.4444444444444444,\"#bd3786\"],[0.5555555555555556,\"#d8576b\"],[0.6666666666666666,\"#ed7953\"],[0.7777777777777778,\"#fb9f3a\"],[0.8888888888888888,\"#fdca26\"],[1.0,\"#f0f921\"]],\"type\":\"histogram2d\"}],\"histogram2dcontour\":[{\"colorbar\":{\"outlinewidth\":0,\"ticks\":\"\"},\"colorscale\":[[0.0,\"#0d0887\"],[0.1111111111111111,\"#46039f\"],[0.2222222222222222,\"#7201a8\"],[0.3333333333333333,\"#9c179e\"],[0.4444444444444444,\"#bd3786\"],[0.5555555555555556,\"#d8576b\"],[0.6666666666666666,\"#ed7953\"],[0.7777777777777778,\"#fb9f3a\"],[0.8888888888888888,\"#fdca26\"],[1.0,\"#f0f921\"]],\"type\":\"histogram2dcontour\"}],\"mesh3d\":[{\"colorbar\":{\"outlinewidth\":0,\"ticks\":\"\"},\"type\":\"mesh3d\"}],\"parcoords\":[{\"line\":{\"colorbar\":{\"outlinewidth\":0,\"ticks\":\"\"}},\"type\":\"parcoords\"}],\"pie\":[{\"automargin\":true,\"type\":\"pie\"}],\"scatter\":[{\"marker\":{\"colorbar\":{\"outlinewidth\":0,\"ticks\":\"\"}},\"type\":\"scatter\"}],\"scatter3d\":[{\"line\":{\"colorbar\":{\"outlinewidth\":0,\"ticks\":\"\"}},\"marker\":{\"colorbar\":{\"outlinewidth\":0,\"ticks\":\"\"}},\"type\":\"scatter3d\"}],\"scattercarpet\":[{\"marker\":{\"colorbar\":{\"outlinewidth\":0,\"ticks\":\"\"}},\"type\":\"scattercarpet\"}],\"scattergeo\":[{\"marker\":{\"colorbar\":{\"outlinewidth\":0,\"ticks\":\"\"}},\"type\":\"scattergeo\"}],\"scattergl\":[{\"marker\":{\"colorbar\":{\"outlinewidth\":0,\"ticks\":\"\"}},\"type\":\"scattergl\"}],\"scattermapbox\":[{\"marker\":{\"colorbar\":{\"outlinewidth\":0,\"ticks\":\"\"}},\"type\":\"scattermapbox\"}],\"scatterpolar\":[{\"marker\":{\"colorbar\":{\"outlinewidth\":0,\"ticks\":\"\"}},\"type\":\"scatterpolar\"}],\"scatterpolargl\":[{\"marker\":{\"colorbar\":{\"outlinewidth\":0,\"ticks\":\"\"}},\"type\":\"scatterpolargl\"}],\"scatterternary\":[{\"marker\":{\"colorbar\":{\"outlinewidth\":0,\"ticks\":\"\"}},\"type\":\"scatterternary\"}],\"surface\":[{\"colorbar\":{\"outlinewidth\":0,\"ticks\":\"\"},\"colorscale\":[[0.0,\"#0d0887\"],[0.1111111111111111,\"#46039f\"],[0.2222222222222222,\"#7201a8\"],[0.3333333333333333,\"#9c179e\"],[0.4444444444444444,\"#bd3786\"],[0.5555555555555556,\"#d8576b\"],[0.6666666666666666,\"#ed7953\"],[0.7777777777777778,\"#fb9f3a\"],[0.8888888888888888,\"#fdca26\"],[1.0,\"#f0f921\"]],\"type\":\"surface\"}],\"table\":[{\"cells\":{\"fill\":{\"color\":\"#EBF0F8\"},\"line\":{\"color\":\"white\"}},\"header\":{\"fill\":{\"color\":\"#C8D4E3\"},\"line\":{\"color\":\"white\"}},\"type\":\"table\"}]},\"layout\":{\"annotationdefaults\":{\"arrowcolor\":\"#2a3f5f\",\"arrowhead\":0,\"arrowwidth\":1},\"autotypenumbers\":\"strict\",\"coloraxis\":{\"colorbar\":{\"outlinewidth\":0,\"ticks\":\"\"}},\"colorscale\":{\"diverging\":[[0,\"#8e0152\"],[0.1,\"#c51b7d\"],[0.2,\"#de77ae\"],[0.3,\"#f1b6da\"],[0.4,\"#fde0ef\"],[0.5,\"#f7f7f7\"],[0.6,\"#e6f5d0\"],[0.7,\"#b8e186\"],[0.8,\"#7fbc41\"],[0.9,\"#4d9221\"],[1,\"#276419\"]],\"sequential\":[[0.0,\"#0d0887\"],[0.1111111111111111,\"#46039f\"],[0.2222222222222222,\"#7201a8\"],[0.3333333333333333,\"#9c179e\"],[0.4444444444444444,\"#bd3786\"],[0.5555555555555556,\"#d8576b\"],[0.6666666666666666,\"#ed7953\"],[0.7777777777777778,\"#fb9f3a\"],[0.8888888888888888,\"#fdca26\"],[1.0,\"#f0f921\"]],\"sequentialminus\":[[0.0,\"#0d0887\"],[0.1111111111111111,\"#46039f\"],[0.2222222222222222,\"#7201a8\"],[0.3333333333333333,\"#9c179e\"],[0.4444444444444444,\"#bd3786\"],[0.5555555555555556,\"#d8576b\"],[0.6666666666666666,\"#ed7953\"],[0.7777777777777778,\"#fb9f3a\"],[0.8888888888888888,\"#fdca26\"],[1.0,\"#f0f921\"]]},\"colorway\":[\"#636efa\",\"#EF553B\",\"#00cc96\",\"#ab63fa\",\"#FFA15A\",\"#19d3f3\",\"#FF6692\",\"#B6E880\",\"#FF97FF\",\"#FECB52\"],\"font\":{\"color\":\"#2a3f5f\"},\"geo\":{\"bgcolor\":\"white\",\"lakecolor\":\"white\",\"landcolor\":\"#E5ECF6\",\"showlakes\":true,\"showland\":true,\"subunitcolor\":\"white\"},\"hoverlabel\":{\"align\":\"left\"},\"hovermode\":\"closest\",\"mapbox\":{\"style\":\"light\"},\"paper_bgcolor\":\"white\",\"plot_bgcolor\":\"#E5ECF6\",\"polar\":{\"angularaxis\":{\"gridcolor\":\"white\",\"linecolor\":\"white\",\"ticks\":\"\"},\"bgcolor\":\"#E5ECF6\",\"radialaxis\":{\"gridcolor\":\"white\",\"linecolor\":\"white\",\"ticks\":\"\"}},\"scene\":{\"xaxis\":{\"backgroundcolor\":\"#E5ECF6\",\"gridcolor\":\"white\",\"gridwidth\":2,\"linecolor\":\"white\",\"showbackground\":true,\"ticks\":\"\",\"zerolinecolor\":\"white\"},\"yaxis\":{\"backgroundcolor\":\"#E5ECF6\",\"gridcolor\":\"white\",\"gridwidth\":2,\"linecolor\":\"white\",\"showbackground\":true,\"ticks\":\"\",\"zerolinecolor\":\"white\"},\"zaxis\":{\"backgroundcolor\":\"#E5ECF6\",\"gridcolor\":\"white\",\"gridwidth\":2,\"linecolor\":\"white\",\"showbackground\":true,\"ticks\":\"\",\"zerolinecolor\":\"white\"}},\"shapedefaults\":{\"line\":{\"color\":\"#2a3f5f\"}},\"ternary\":{\"aaxis\":{\"gridcolor\":\"white\",\"linecolor\":\"white\",\"ticks\":\"\"},\"baxis\":{\"gridcolor\":\"white\",\"linecolor\":\"white\",\"ticks\":\"\"},\"bgcolor\":\"#E5ECF6\",\"caxis\":{\"gridcolor\":\"white\",\"linecolor\":\"white\",\"ticks\":\"\"}},\"title\":{\"x\":0.05},\"xaxis\":{\"automargin\":true,\"gridcolor\":\"white\",\"linecolor\":\"white\",\"ticks\":\"\",\"title\":{\"standoff\":15},\"zerolinecolor\":\"white\",\"zerolinewidth\":2},\"yaxis\":{\"automargin\":true,\"gridcolor\":\"white\",\"linecolor\":\"white\",\"ticks\":\"\",\"title\":{\"standoff\":15},\"zerolinecolor\":\"white\",\"zerolinewidth\":2}}},\"title\":{\"text\":\"Estat\\u00edstica do com\\u00e9rcio | R\\u00fassia - Brasil | 2019\"},\"annotations\":[{\"showarrow\":false,\"text\":\"Importa\\u00e7\\u00f5es<br>2.15B$\",\"x\":0.17,\"y\":0.5,\"font\":{\"size\":16}},{\"showarrow\":false,\"text\":\"Exporta\\u00e7\\u00f5es<br>2.45B$\",\"x\":0.83,\"y\":0.5,\"font\":{\"size\":16}}]},                        {\"responsive\": true}                    ).then(function(){\n",
              "                            \n",
              "var gd = document.getElementById('d9425c69-812c-44f1-ab0b-9710aae5598b');\n",
              "var x = new MutationObserver(function (mutations, observer) {{\n",
              "        var display = window.getComputedStyle(gd).display;\n",
              "        if (!display || display === 'none') {{\n",
              "            console.log([gd, 'removed!']);\n",
              "            Plotly.purge(gd);\n",
              "            observer.disconnect();\n",
              "        }}\n",
              "}});\n",
              "\n",
              "// Listen for the removal of the full notebook cells\n",
              "var notebookContainer = gd.closest('#notebook-container');\n",
              "if (notebookContainer) {{\n",
              "    x.observe(notebookContainer, {childList: true});\n",
              "}}\n",
              "\n",
              "// Listen for the clearing of the current output cell\n",
              "var outputEl = gd.closest('.output');\n",
              "if (outputEl) {{\n",
              "    x.observe(outputEl, {childList: true});\n",
              "}}\n",
              "\n",
              "                        })                };                            </script>        </div>\n",
              "</body>\n",
              "</html>"
            ]
          },
          "metadata": {}
        }
      ]
    },
    {
      "cell_type": "markdown",
      "source": [
        "##Conclusões\n",
        "\n",
        "Além das sanções bancarias e portuárias. Algumas sanções comerciais (importação e exportação) podem resultar em prejuízos à Rússia:\n",
        "\n",
        "*   Setor energético, corresponde à 50% das exportações russas.\n",
        "*   Setor de máquinas e eletrônicos, corresponde à 29% das importações russas.\n",
        "* Mais parceiros comerciais teriam que participar das sanções, entre eles a China.\n",
        "\n",
        "A Rússia já sofreu sanções no passado, possui resiliência para contornar as sanções.\n",
        "\n",
        "O conflito ainda não terminou, precisamos aguardar os próximos acontecimentos para verificarmos as consequencias das sanções.\n",
        "\n"
      ],
      "metadata": {
        "id": "5m1N8-SuUfvK"
      }
    }
  ]
}